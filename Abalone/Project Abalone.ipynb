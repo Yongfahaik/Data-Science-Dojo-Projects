{
 "cells": [
  {
   "cell_type": "markdown",
   "id": "6d2fdc4f",
   "metadata": {},
   "source": [
    "# Data Science Dojo\n",
    "<font size=\"4\">Finding the Age of Abalones</font>"
   ]
  },
  {
   "cell_type": "markdown",
   "id": "211fb651",
   "metadata": {},
   "source": [
    "---\n",
    "\n",
    "## Table of Contents\n",
    "\n",
    "### [Problem Statement](#ProbState)\n",
    "\n",
    "1. [**Imports (All imported libraries are added here)**](#imports)\n",
    "2. [**Dataset**](#dataset)    \n",
    "3. [**Data Cleaning**](#dc)\n",
    "    1. [**Renaming Column Names**](#rename)\n",
    "    2. [**Dummifying Genders**](#dummy)\n",
    "    3. [**Age of Abalone**](#age)\n",
    "4. [**EDA**](#eda)\n",
    "    1. [**Correlations**](#corr)\n",
    "    2. [**Scatter Plots against Rings**](#scatter)\n",
    "    3. [**Box Plots against Rings**](#box)\n",
    "5. [**Modelling**](#model)\n",
    "6. [**Model Evaluation**](#evaluate)\n",
    "\n",
    "---"
   ]
  },
  {
   "cell_type": "markdown",
   "id": "6613cef8",
   "metadata": {},
   "source": [
    "<a id=\"ProbState\"></a>\n",
    "## Problem Statement"
   ]
  },
  {
   "cell_type": "markdown",
   "id": "9fdb2042",
   "metadata": {},
   "source": [
    "Abalone has been a delicacy, widely consumed by various cultures and people around the world. As such for the farmers of the shellfish, it is important to know of the age of the abalone as this will directly correspond to the actual sale price of the abalone.\n",
    "\n",
    "Currently, the age-old method of determining the age of the abalone is by culling the abalone and then counting the actual number of rings on the abalone, since the number of rings on the shell will give the approximate age of the abalone, similar to the rings of a tree. In order to count the rings, the shell has to be cleaned and polished, and the rings identified under a microscope, which makes it difficult, impractical and expensive to use as a method of determining the sale price of the abalone.\n",
    "\n",
    "In this project, our goal here is to see if there is an alternative and simpler method to determining the actual age of the abalone."
   ]
  },
  {
   "cell_type": "markdown",
   "id": "4e7695b1",
   "metadata": {},
   "source": [
    "<a id=\"imports\"></a>\n",
    "## 1. Imports (All imported libraries are added here)"
   ]
  },
  {
   "cell_type": "code",
   "execution_count": 1,
   "id": "abfc5688",
   "metadata": {},
   "outputs": [],
   "source": [
    "# import all libraries here \n",
    "import warnings\n",
    "warnings.filterwarnings('ignore')\n",
    "\n",
    "# General Modules\n",
    "import pandas as pd\n",
    "import numpy as np\n",
    "import matplotlib.pyplot as plt\n",
    "import seaborn as sns\n",
    "import time\n",
    "\n",
    "# Modelling Modules\n",
    "from sklearn.preprocessing import OneHotEncoder\n",
    "from sklearn.model_selection import train_test_split, cross_val_score, GridSearchCV\n",
    "from sklearn.preprocessing import StandardScaler, PolynomialFeatures\n",
    "from sklearn.metrics import mean_squared_error, mean_absolute_error, r2_score\n",
    "from sklearn.linear_model import LinearRegression, RidgeCV, LassoCV, LogisticRegression\n",
    "\n",
    "from imblearn.pipeline import Pipeline\n",
    "\n",
    "from sklearn.dummy import DummyRegressor\n",
    "from sklearn.neighbors import KNeighborsRegressor\n",
    "from sklearn.tree import DecisionTreeRegressor\n",
    "from sklearn.ensemble import GradientBoostingRegressor"
   ]
  },
  {
   "cell_type": "markdown",
   "id": "45db94e2",
   "metadata": {},
   "source": [
    "<a id=\"dataset\"></a>\n",
    "## 2. Dataset"
   ]
  },
  {
   "cell_type": "code",
   "execution_count": 2,
   "id": "460255ca",
   "metadata": {},
   "outputs": [],
   "source": [
    "# import data\n",
    "df = pd.read_csv('./abalone.data.csv')"
   ]
  },
  {
   "cell_type": "code",
   "execution_count": 3,
   "id": "49348da5",
   "metadata": {},
   "outputs": [],
   "source": [
    "# Define function to view basic information of dataframe\n",
    "def df_look(df):\n",
    "    print('Number of rows: ', df.shape[0])\n",
    "    print('Number of columns: ', df.shape[1], '\\n') \n",
    "    display(df.dtypes)\n",
    "    print('\\nMissing values in dataset:')\n",
    "    display(df.isnull().sum())\n",
    "    print('\\nCount of duplicated rows in dataset: ', df[df.duplicated(keep=False)].shape[0], '\\n')"
   ]
  },
  {
   "cell_type": "markdown",
   "id": "3af29a9c",
   "metadata": {},
   "source": [
    "<a id=\"dc\"></a>\n",
    "## 3. Data Cleaning"
   ]
  },
  {
   "cell_type": "code",
   "execution_count": 4,
   "id": "3b27831b",
   "metadata": {
    "scrolled": false
   },
   "outputs": [
    {
     "name": "stdout",
     "output_type": "stream",
     "text": [
      "Number of rows:  4176\n",
      "Number of columns:  9 \n",
      "\n"
     ]
    },
    {
     "data": {
      "text/plain": [
       "M          object\n",
       "0.455     float64\n",
       "0.365     float64\n",
       "0.095     float64\n",
       "0.514     float64\n",
       "0.2245    float64\n",
       "0.101     float64\n",
       "0.15      float64\n",
       "15          int64\n",
       "dtype: object"
      ]
     },
     "metadata": {},
     "output_type": "display_data"
    },
    {
     "name": "stdout",
     "output_type": "stream",
     "text": [
      "\n",
      "Missing values in dataset:\n"
     ]
    },
    {
     "data": {
      "text/plain": [
       "M         0\n",
       "0.455     0\n",
       "0.365     0\n",
       "0.095     0\n",
       "0.514     0\n",
       "0.2245    0\n",
       "0.101     0\n",
       "0.15      0\n",
       "15        0\n",
       "dtype: int64"
      ]
     },
     "metadata": {},
     "output_type": "display_data"
    },
    {
     "name": "stdout",
     "output_type": "stream",
     "text": [
      "\n",
      "Count of duplicated rows in dataset:  0 \n",
      "\n"
     ]
    }
   ],
   "source": [
    "# Checking the basic info for the match dataset\n",
    "df_look(df)"
   ]
  },
  {
   "cell_type": "code",
   "execution_count": 5,
   "id": "6fbd9272",
   "metadata": {},
   "outputs": [
    {
     "data": {
      "text/html": [
       "<div>\n",
       "<style scoped>\n",
       "    .dataframe tbody tr th:only-of-type {\n",
       "        vertical-align: middle;\n",
       "    }\n",
       "\n",
       "    .dataframe tbody tr th {\n",
       "        vertical-align: top;\n",
       "    }\n",
       "\n",
       "    .dataframe thead th {\n",
       "        text-align: right;\n",
       "    }\n",
       "</style>\n",
       "<table border=\"1\" class=\"dataframe\">\n",
       "  <thead>\n",
       "    <tr style=\"text-align: right;\">\n",
       "      <th></th>\n",
       "      <th>M</th>\n",
       "      <th>0.455</th>\n",
       "      <th>0.365</th>\n",
       "      <th>0.095</th>\n",
       "      <th>0.514</th>\n",
       "      <th>0.2245</th>\n",
       "      <th>0.101</th>\n",
       "      <th>0.15</th>\n",
       "      <th>15</th>\n",
       "    </tr>\n",
       "  </thead>\n",
       "  <tbody>\n",
       "    <tr>\n",
       "      <th>0</th>\n",
       "      <td>M</td>\n",
       "      <td>0.350</td>\n",
       "      <td>0.265</td>\n",
       "      <td>0.090</td>\n",
       "      <td>0.2255</td>\n",
       "      <td>0.0995</td>\n",
       "      <td>0.0485</td>\n",
       "      <td>0.070</td>\n",
       "      <td>7</td>\n",
       "    </tr>\n",
       "    <tr>\n",
       "      <th>1</th>\n",
       "      <td>F</td>\n",
       "      <td>0.530</td>\n",
       "      <td>0.420</td>\n",
       "      <td>0.135</td>\n",
       "      <td>0.6770</td>\n",
       "      <td>0.2565</td>\n",
       "      <td>0.1415</td>\n",
       "      <td>0.210</td>\n",
       "      <td>9</td>\n",
       "    </tr>\n",
       "    <tr>\n",
       "      <th>2</th>\n",
       "      <td>M</td>\n",
       "      <td>0.440</td>\n",
       "      <td>0.365</td>\n",
       "      <td>0.125</td>\n",
       "      <td>0.5160</td>\n",
       "      <td>0.2155</td>\n",
       "      <td>0.1140</td>\n",
       "      <td>0.155</td>\n",
       "      <td>10</td>\n",
       "    </tr>\n",
       "    <tr>\n",
       "      <th>3</th>\n",
       "      <td>I</td>\n",
       "      <td>0.330</td>\n",
       "      <td>0.255</td>\n",
       "      <td>0.080</td>\n",
       "      <td>0.2050</td>\n",
       "      <td>0.0895</td>\n",
       "      <td>0.0395</td>\n",
       "      <td>0.055</td>\n",
       "      <td>7</td>\n",
       "    </tr>\n",
       "    <tr>\n",
       "      <th>4</th>\n",
       "      <td>I</td>\n",
       "      <td>0.425</td>\n",
       "      <td>0.300</td>\n",
       "      <td>0.095</td>\n",
       "      <td>0.3515</td>\n",
       "      <td>0.1410</td>\n",
       "      <td>0.0775</td>\n",
       "      <td>0.120</td>\n",
       "      <td>8</td>\n",
       "    </tr>\n",
       "  </tbody>\n",
       "</table>\n",
       "</div>"
      ],
      "text/plain": [
       "   M  0.455  0.365  0.095   0.514  0.2245   0.101   0.15  15\n",
       "0  M  0.350  0.265  0.090  0.2255  0.0995  0.0485  0.070   7\n",
       "1  F  0.530  0.420  0.135  0.6770  0.2565  0.1415  0.210   9\n",
       "2  M  0.440  0.365  0.125  0.5160  0.2155  0.1140  0.155  10\n",
       "3  I  0.330  0.255  0.080  0.2050  0.0895  0.0395  0.055   7\n",
       "4  I  0.425  0.300  0.095  0.3515  0.1410  0.0775  0.120   8"
      ]
     },
     "execution_count": 5,
     "metadata": {},
     "output_type": "execute_result"
    }
   ],
   "source": [
    "# Looking at the first 5 rows\n",
    "df.head()"
   ]
  },
  {
   "cell_type": "markdown",
   "id": "e7b99f8a",
   "metadata": {},
   "source": [
    "<a id=\"rename\"></a>\n",
    "### 3.1 Renaming Column names\n",
    "\n",
    "The first look at the dataframe shows that the columns names are not intuitive.\n",
    "\n",
    "As such, the first course of action is to translate the column names into proper ones."
   ]
  },
  {
   "cell_type": "code",
   "execution_count": 6,
   "id": "61dabfda",
   "metadata": {},
   "outputs": [
    {
     "data": {
      "text/html": [
       "<div>\n",
       "<style scoped>\n",
       "    .dataframe tbody tr th:only-of-type {\n",
       "        vertical-align: middle;\n",
       "    }\n",
       "\n",
       "    .dataframe tbody tr th {\n",
       "        vertical-align: top;\n",
       "    }\n",
       "\n",
       "    .dataframe thead th {\n",
       "        text-align: right;\n",
       "    }\n",
       "</style>\n",
       "<table border=\"1\" class=\"dataframe\">\n",
       "  <thead>\n",
       "    <tr style=\"text-align: right;\">\n",
       "      <th></th>\n",
       "      <th>sex</th>\n",
       "      <th>length</th>\n",
       "      <th>diameter</th>\n",
       "      <th>height</th>\n",
       "      <th>whole_weight</th>\n",
       "      <th>shucked_weight</th>\n",
       "      <th>viscera_weight</th>\n",
       "      <th>shell_weight</th>\n",
       "      <th>rings</th>\n",
       "    </tr>\n",
       "  </thead>\n",
       "  <tbody>\n",
       "    <tr>\n",
       "      <th>0</th>\n",
       "      <td>M</td>\n",
       "      <td>0.350</td>\n",
       "      <td>0.265</td>\n",
       "      <td>0.090</td>\n",
       "      <td>0.2255</td>\n",
       "      <td>0.0995</td>\n",
       "      <td>0.0485</td>\n",
       "      <td>0.070</td>\n",
       "      <td>7</td>\n",
       "    </tr>\n",
       "    <tr>\n",
       "      <th>1</th>\n",
       "      <td>F</td>\n",
       "      <td>0.530</td>\n",
       "      <td>0.420</td>\n",
       "      <td>0.135</td>\n",
       "      <td>0.6770</td>\n",
       "      <td>0.2565</td>\n",
       "      <td>0.1415</td>\n",
       "      <td>0.210</td>\n",
       "      <td>9</td>\n",
       "    </tr>\n",
       "    <tr>\n",
       "      <th>2</th>\n",
       "      <td>M</td>\n",
       "      <td>0.440</td>\n",
       "      <td>0.365</td>\n",
       "      <td>0.125</td>\n",
       "      <td>0.5160</td>\n",
       "      <td>0.2155</td>\n",
       "      <td>0.1140</td>\n",
       "      <td>0.155</td>\n",
       "      <td>10</td>\n",
       "    </tr>\n",
       "    <tr>\n",
       "      <th>3</th>\n",
       "      <td>I</td>\n",
       "      <td>0.330</td>\n",
       "      <td>0.255</td>\n",
       "      <td>0.080</td>\n",
       "      <td>0.2050</td>\n",
       "      <td>0.0895</td>\n",
       "      <td>0.0395</td>\n",
       "      <td>0.055</td>\n",
       "      <td>7</td>\n",
       "    </tr>\n",
       "    <tr>\n",
       "      <th>4</th>\n",
       "      <td>I</td>\n",
       "      <td>0.425</td>\n",
       "      <td>0.300</td>\n",
       "      <td>0.095</td>\n",
       "      <td>0.3515</td>\n",
       "      <td>0.1410</td>\n",
       "      <td>0.0775</td>\n",
       "      <td>0.120</td>\n",
       "      <td>8</td>\n",
       "    </tr>\n",
       "  </tbody>\n",
       "</table>\n",
       "</div>"
      ],
      "text/plain": [
       "  sex  length  diameter  height  whole_weight  shucked_weight  viscera_weight  \\\n",
       "0   M   0.350     0.265   0.090        0.2255          0.0995          0.0485   \n",
       "1   F   0.530     0.420   0.135        0.6770          0.2565          0.1415   \n",
       "2   M   0.440     0.365   0.125        0.5160          0.2155          0.1140   \n",
       "3   I   0.330     0.255   0.080        0.2050          0.0895          0.0395   \n",
       "4   I   0.425     0.300   0.095        0.3515          0.1410          0.0775   \n",
       "\n",
       "   shell_weight  rings  \n",
       "0         0.070      7  \n",
       "1         0.210      9  \n",
       "2         0.155     10  \n",
       "3         0.055      7  \n",
       "4         0.120      8  "
      ]
     },
     "execution_count": 6,
     "metadata": {},
     "output_type": "execute_result"
    }
   ],
   "source": [
    "# Rename all of the columns\n",
    "df.rename({'M': 'sex', '0.455': 'length', '0.365': 'diameter', '0.095': 'height', \n",
    "          '0.514': 'whole_weight', '0.2245': 'shucked_weight', '0.101': 'viscera_weight',\n",
    "          '0.15': 'shell_weight', '15': 'rings'}, \n",
    "          axis = 1, inplace = True)\n",
    "\n",
    "# Looking at the first 5 rows again\n",
    "df.head()"
   ]
  },
  {
   "cell_type": "code",
   "execution_count": 7,
   "id": "02f5c13e",
   "metadata": {},
   "outputs": [],
   "source": [
    "# Creating a separate dataframe for data manipulation\n",
    "abalone = df.copy()"
   ]
  },
  {
   "cell_type": "markdown",
   "id": "1d81d7c5",
   "metadata": {},
   "source": [
    "<a id=\"dummy\"></a>\n",
    "### 3.2 Dummifying Genders\n",
    "\n",
    "Since the first column is an categorical column, it would be wise to dummify it for analysis and modelling."
   ]
  },
  {
   "cell_type": "code",
   "execution_count": 8,
   "id": "e3baad24",
   "metadata": {},
   "outputs": [
    {
     "data": {
      "text/plain": [
       "M    1527\n",
       "I    1342\n",
       "F    1307\n",
       "Name: sex, dtype: int64"
      ]
     },
     "execution_count": 8,
     "metadata": {},
     "output_type": "execute_result"
    }
   ],
   "source": [
    "# Looking at the value counts of the 'sex' column\n",
    "abalone['sex'].value_counts()"
   ]
  },
  {
   "cell_type": "code",
   "execution_count": 9,
   "id": "063039a8",
   "metadata": {
    "scrolled": true
   },
   "outputs": [
    {
     "data": {
      "text/html": [
       "<div>\n",
       "<style scoped>\n",
       "    .dataframe tbody tr th:only-of-type {\n",
       "        vertical-align: middle;\n",
       "    }\n",
       "\n",
       "    .dataframe tbody tr th {\n",
       "        vertical-align: top;\n",
       "    }\n",
       "\n",
       "    .dataframe thead th {\n",
       "        text-align: right;\n",
       "    }\n",
       "</style>\n",
       "<table border=\"1\" class=\"dataframe\">\n",
       "  <thead>\n",
       "    <tr style=\"text-align: right;\">\n",
       "      <th></th>\n",
       "      <th>length</th>\n",
       "      <th>diameter</th>\n",
       "      <th>height</th>\n",
       "      <th>whole_weight</th>\n",
       "      <th>shucked_weight</th>\n",
       "      <th>viscera_weight</th>\n",
       "      <th>shell_weight</th>\n",
       "      <th>rings</th>\n",
       "      <th>sex_F</th>\n",
       "      <th>sex_I</th>\n",
       "      <th>sex_M</th>\n",
       "    </tr>\n",
       "  </thead>\n",
       "  <tbody>\n",
       "    <tr>\n",
       "      <th>0</th>\n",
       "      <td>0.350</td>\n",
       "      <td>0.265</td>\n",
       "      <td>0.090</td>\n",
       "      <td>0.2255</td>\n",
       "      <td>0.0995</td>\n",
       "      <td>0.0485</td>\n",
       "      <td>0.070</td>\n",
       "      <td>7</td>\n",
       "      <td>0</td>\n",
       "      <td>0</td>\n",
       "      <td>1</td>\n",
       "    </tr>\n",
       "    <tr>\n",
       "      <th>1</th>\n",
       "      <td>0.530</td>\n",
       "      <td>0.420</td>\n",
       "      <td>0.135</td>\n",
       "      <td>0.6770</td>\n",
       "      <td>0.2565</td>\n",
       "      <td>0.1415</td>\n",
       "      <td>0.210</td>\n",
       "      <td>9</td>\n",
       "      <td>1</td>\n",
       "      <td>0</td>\n",
       "      <td>0</td>\n",
       "    </tr>\n",
       "    <tr>\n",
       "      <th>2</th>\n",
       "      <td>0.440</td>\n",
       "      <td>0.365</td>\n",
       "      <td>0.125</td>\n",
       "      <td>0.5160</td>\n",
       "      <td>0.2155</td>\n",
       "      <td>0.1140</td>\n",
       "      <td>0.155</td>\n",
       "      <td>10</td>\n",
       "      <td>0</td>\n",
       "      <td>0</td>\n",
       "      <td>1</td>\n",
       "    </tr>\n",
       "    <tr>\n",
       "      <th>3</th>\n",
       "      <td>0.330</td>\n",
       "      <td>0.255</td>\n",
       "      <td>0.080</td>\n",
       "      <td>0.2050</td>\n",
       "      <td>0.0895</td>\n",
       "      <td>0.0395</td>\n",
       "      <td>0.055</td>\n",
       "      <td>7</td>\n",
       "      <td>0</td>\n",
       "      <td>1</td>\n",
       "      <td>0</td>\n",
       "    </tr>\n",
       "    <tr>\n",
       "      <th>4</th>\n",
       "      <td>0.425</td>\n",
       "      <td>0.300</td>\n",
       "      <td>0.095</td>\n",
       "      <td>0.3515</td>\n",
       "      <td>0.1410</td>\n",
       "      <td>0.0775</td>\n",
       "      <td>0.120</td>\n",
       "      <td>8</td>\n",
       "      <td>0</td>\n",
       "      <td>1</td>\n",
       "      <td>0</td>\n",
       "    </tr>\n",
       "  </tbody>\n",
       "</table>\n",
       "</div>"
      ],
      "text/plain": [
       "   length  diameter  height  whole_weight  shucked_weight  viscera_weight  \\\n",
       "0   0.350     0.265   0.090        0.2255          0.0995          0.0485   \n",
       "1   0.530     0.420   0.135        0.6770          0.2565          0.1415   \n",
       "2   0.440     0.365   0.125        0.5160          0.2155          0.1140   \n",
       "3   0.330     0.255   0.080        0.2050          0.0895          0.0395   \n",
       "4   0.425     0.300   0.095        0.3515          0.1410          0.0775   \n",
       "\n",
       "   shell_weight  rings  sex_F  sex_I  sex_M  \n",
       "0         0.070      7      0      0      1  \n",
       "1         0.210      9      1      0      0  \n",
       "2         0.155     10      0      0      1  \n",
       "3         0.055      7      0      1      0  \n",
       "4         0.120      8      0      1      0  "
      ]
     },
     "execution_count": 9,
     "metadata": {},
     "output_type": "execute_result"
    }
   ],
   "source": [
    "# Dummify the 'sex' column\n",
    "abalone = pd.get_dummies(abalone, columns = ['sex'])\n",
    "\n",
    "# Checking the first 5 columns again\n",
    "abalone.head()"
   ]
  },
  {
   "cell_type": "markdown",
   "id": "94c272ec",
   "metadata": {},
   "source": [
    "<a id=\"age\"></a>\n",
    "### 3.3 Age of Abalone\n",
    "\n",
    "It can be seen from above that the target variable of 'age' cannot be found anyway in the data.\n",
    "\n",
    "However, from the data dictionary, we find that the age of the abalone can be derived from the number of rings it has. As such, we can model our data based on the target variable of 'rings'.\n",
    "\n",
    "> Age = Rings + 1.5"
   ]
  },
  {
   "cell_type": "markdown",
   "id": "5447490d",
   "metadata": {},
   "source": [
    "<a id=\"eda\"></a>\n",
    "## 4. EDA"
   ]
  },
  {
   "cell_type": "code",
   "execution_count": 10,
   "id": "764a7ae7",
   "metadata": {},
   "outputs": [
    {
     "data": {
      "text/html": [
       "<div>\n",
       "<style scoped>\n",
       "    .dataframe tbody tr th:only-of-type {\n",
       "        vertical-align: middle;\n",
       "    }\n",
       "\n",
       "    .dataframe tbody tr th {\n",
       "        vertical-align: top;\n",
       "    }\n",
       "\n",
       "    .dataframe thead th {\n",
       "        text-align: right;\n",
       "    }\n",
       "</style>\n",
       "<table border=\"1\" class=\"dataframe\">\n",
       "  <thead>\n",
       "    <tr style=\"text-align: right;\">\n",
       "      <th></th>\n",
       "      <th>length</th>\n",
       "      <th>diameter</th>\n",
       "      <th>height</th>\n",
       "      <th>whole_weight</th>\n",
       "      <th>shucked_weight</th>\n",
       "      <th>viscera_weight</th>\n",
       "      <th>shell_weight</th>\n",
       "      <th>rings</th>\n",
       "      <th>sex_F</th>\n",
       "      <th>sex_I</th>\n",
       "      <th>sex_M</th>\n",
       "    </tr>\n",
       "  </thead>\n",
       "  <tbody>\n",
       "    <tr>\n",
       "      <th>count</th>\n",
       "      <td>4176.000000</td>\n",
       "      <td>4176.000000</td>\n",
       "      <td>4176.000000</td>\n",
       "      <td>4176.000000</td>\n",
       "      <td>4176.00000</td>\n",
       "      <td>4176.000000</td>\n",
       "      <td>4176.000000</td>\n",
       "      <td>4176.000000</td>\n",
       "      <td>4176.000000</td>\n",
       "      <td>4176.000000</td>\n",
       "      <td>4176.000000</td>\n",
       "    </tr>\n",
       "    <tr>\n",
       "      <th>mean</th>\n",
       "      <td>0.524009</td>\n",
       "      <td>0.407892</td>\n",
       "      <td>0.139527</td>\n",
       "      <td>0.828818</td>\n",
       "      <td>0.35940</td>\n",
       "      <td>0.180613</td>\n",
       "      <td>0.238852</td>\n",
       "      <td>9.932471</td>\n",
       "      <td>0.312979</td>\n",
       "      <td>0.321360</td>\n",
       "      <td>0.365661</td>\n",
       "    </tr>\n",
       "    <tr>\n",
       "      <th>std</th>\n",
       "      <td>0.120103</td>\n",
       "      <td>0.099250</td>\n",
       "      <td>0.041826</td>\n",
       "      <td>0.490424</td>\n",
       "      <td>0.22198</td>\n",
       "      <td>0.109620</td>\n",
       "      <td>0.139213</td>\n",
       "      <td>3.223601</td>\n",
       "      <td>0.463761</td>\n",
       "      <td>0.467055</td>\n",
       "      <td>0.481673</td>\n",
       "    </tr>\n",
       "    <tr>\n",
       "      <th>min</th>\n",
       "      <td>0.075000</td>\n",
       "      <td>0.055000</td>\n",
       "      <td>0.000000</td>\n",
       "      <td>0.002000</td>\n",
       "      <td>0.00100</td>\n",
       "      <td>0.000500</td>\n",
       "      <td>0.001500</td>\n",
       "      <td>1.000000</td>\n",
       "      <td>0.000000</td>\n",
       "      <td>0.000000</td>\n",
       "      <td>0.000000</td>\n",
       "    </tr>\n",
       "    <tr>\n",
       "      <th>25%</th>\n",
       "      <td>0.450000</td>\n",
       "      <td>0.350000</td>\n",
       "      <td>0.115000</td>\n",
       "      <td>0.441500</td>\n",
       "      <td>0.18600</td>\n",
       "      <td>0.093375</td>\n",
       "      <td>0.130000</td>\n",
       "      <td>8.000000</td>\n",
       "      <td>0.000000</td>\n",
       "      <td>0.000000</td>\n",
       "      <td>0.000000</td>\n",
       "    </tr>\n",
       "    <tr>\n",
       "      <th>50%</th>\n",
       "      <td>0.545000</td>\n",
       "      <td>0.425000</td>\n",
       "      <td>0.140000</td>\n",
       "      <td>0.799750</td>\n",
       "      <td>0.33600</td>\n",
       "      <td>0.171000</td>\n",
       "      <td>0.234000</td>\n",
       "      <td>9.000000</td>\n",
       "      <td>0.000000</td>\n",
       "      <td>0.000000</td>\n",
       "      <td>0.000000</td>\n",
       "    </tr>\n",
       "    <tr>\n",
       "      <th>75%</th>\n",
       "      <td>0.615000</td>\n",
       "      <td>0.480000</td>\n",
       "      <td>0.165000</td>\n",
       "      <td>1.153250</td>\n",
       "      <td>0.50200</td>\n",
       "      <td>0.253000</td>\n",
       "      <td>0.329000</td>\n",
       "      <td>11.000000</td>\n",
       "      <td>1.000000</td>\n",
       "      <td>1.000000</td>\n",
       "      <td>1.000000</td>\n",
       "    </tr>\n",
       "    <tr>\n",
       "      <th>max</th>\n",
       "      <td>0.815000</td>\n",
       "      <td>0.650000</td>\n",
       "      <td>1.130000</td>\n",
       "      <td>2.825500</td>\n",
       "      <td>1.48800</td>\n",
       "      <td>0.760000</td>\n",
       "      <td>1.005000</td>\n",
       "      <td>29.000000</td>\n",
       "      <td>1.000000</td>\n",
       "      <td>1.000000</td>\n",
       "      <td>1.000000</td>\n",
       "    </tr>\n",
       "  </tbody>\n",
       "</table>\n",
       "</div>"
      ],
      "text/plain": [
       "            length     diameter       height  whole_weight  shucked_weight  \\\n",
       "count  4176.000000  4176.000000  4176.000000   4176.000000      4176.00000   \n",
       "mean      0.524009     0.407892     0.139527      0.828818         0.35940   \n",
       "std       0.120103     0.099250     0.041826      0.490424         0.22198   \n",
       "min       0.075000     0.055000     0.000000      0.002000         0.00100   \n",
       "25%       0.450000     0.350000     0.115000      0.441500         0.18600   \n",
       "50%       0.545000     0.425000     0.140000      0.799750         0.33600   \n",
       "75%       0.615000     0.480000     0.165000      1.153250         0.50200   \n",
       "max       0.815000     0.650000     1.130000      2.825500         1.48800   \n",
       "\n",
       "       viscera_weight  shell_weight        rings        sex_F        sex_I  \\\n",
       "count     4176.000000   4176.000000  4176.000000  4176.000000  4176.000000   \n",
       "mean         0.180613      0.238852     9.932471     0.312979     0.321360   \n",
       "std          0.109620      0.139213     3.223601     0.463761     0.467055   \n",
       "min          0.000500      0.001500     1.000000     0.000000     0.000000   \n",
       "25%          0.093375      0.130000     8.000000     0.000000     0.000000   \n",
       "50%          0.171000      0.234000     9.000000     0.000000     0.000000   \n",
       "75%          0.253000      0.329000    11.000000     1.000000     1.000000   \n",
       "max          0.760000      1.005000    29.000000     1.000000     1.000000   \n",
       "\n",
       "             sex_M  \n",
       "count  4176.000000  \n",
       "mean      0.365661  \n",
       "std       0.481673  \n",
       "min       0.000000  \n",
       "25%       0.000000  \n",
       "50%       0.000000  \n",
       "75%       1.000000  \n",
       "max       1.000000  "
      ]
     },
     "execution_count": 10,
     "metadata": {},
     "output_type": "execute_result"
    }
   ],
   "source": [
    "# A quick describe of the dataframe\n",
    "abalone.describe()"
   ]
  },
  {
   "cell_type": "markdown",
   "id": "07e9d305",
   "metadata": {},
   "source": [
    "<a id=\"corr\"></a>\n",
    "### 4.1 Correlations"
   ]
  },
  {
   "cell_type": "code",
   "execution_count": 11,
   "id": "651c7c25",
   "metadata": {},
   "outputs": [],
   "source": [
    "# function for getting the heatmap for correlation\n",
    "def corr_heatmap(dataframe):\n",
    "    # Create mask to hide the upper triangle of correlation matrix\n",
    "    mask = np.zeros_like(dataframe)\n",
    "    mask[np.triu_indices_from(mask)] = True\n",
    "\n",
    "    # Plot correlation matrix of player_stats dataframe\n",
    "    plt.figure(figsize=(12,8))\n",
    "    sns.heatmap(dataframe, cmap='coolwarm', annot=True, mask=mask);"
   ]
  },
  {
   "cell_type": "code",
   "execution_count": 12,
   "id": "c4413373",
   "metadata": {},
   "outputs": [
    {
     "data": {
      "text/html": [
       "<div>\n",
       "<style scoped>\n",
       "    .dataframe tbody tr th:only-of-type {\n",
       "        vertical-align: middle;\n",
       "    }\n",
       "\n",
       "    .dataframe tbody tr th {\n",
       "        vertical-align: top;\n",
       "    }\n",
       "\n",
       "    .dataframe thead th {\n",
       "        text-align: right;\n",
       "    }\n",
       "</style>\n",
       "<table border=\"1\" class=\"dataframe\">\n",
       "  <thead>\n",
       "    <tr style=\"text-align: right;\">\n",
       "      <th></th>\n",
       "      <th>length</th>\n",
       "      <th>diameter</th>\n",
       "      <th>height</th>\n",
       "      <th>whole_weight</th>\n",
       "      <th>shucked_weight</th>\n",
       "      <th>viscera_weight</th>\n",
       "      <th>shell_weight</th>\n",
       "      <th>rings</th>\n",
       "      <th>sex_F</th>\n",
       "      <th>sex_I</th>\n",
       "      <th>sex_M</th>\n",
       "    </tr>\n",
       "  </thead>\n",
       "  <tbody>\n",
       "    <tr>\n",
       "      <th>length</th>\n",
       "      <td>1.000000</td>\n",
       "      <td>0.986813</td>\n",
       "      <td>0.827552</td>\n",
       "      <td>0.925255</td>\n",
       "      <td>0.897905</td>\n",
       "      <td>0.903010</td>\n",
       "      <td>0.897697</td>\n",
       "      <td>0.557123</td>\n",
       "      <td>0.309602</td>\n",
       "      <td>-0.551613</td>\n",
       "      <td>0.236783</td>\n",
       "    </tr>\n",
       "    <tr>\n",
       "      <th>diameter</th>\n",
       "      <td>0.986813</td>\n",
       "      <td>1.000000</td>\n",
       "      <td>0.833705</td>\n",
       "      <td>0.925452</td>\n",
       "      <td>0.893159</td>\n",
       "      <td>0.899726</td>\n",
       "      <td>0.905328</td>\n",
       "      <td>0.575005</td>\n",
       "      <td>0.318581</td>\n",
       "      <td>-0.564431</td>\n",
       "      <td>0.240567</td>\n",
       "    </tr>\n",
       "    <tr>\n",
       "      <th>height</th>\n",
       "      <td>0.827552</td>\n",
       "      <td>0.833705</td>\n",
       "      <td>1.000000</td>\n",
       "      <td>0.819209</td>\n",
       "      <td>0.774957</td>\n",
       "      <td>0.798293</td>\n",
       "      <td>0.817326</td>\n",
       "      <td>0.558109</td>\n",
       "      <td>0.298306</td>\n",
       "      <td>-0.518828</td>\n",
       "      <td>0.215869</td>\n",
       "    </tr>\n",
       "    <tr>\n",
       "      <th>whole_weight</th>\n",
       "      <td>0.925255</td>\n",
       "      <td>0.925452</td>\n",
       "      <td>0.819209</td>\n",
       "      <td>1.000000</td>\n",
       "      <td>0.969403</td>\n",
       "      <td>0.966372</td>\n",
       "      <td>0.955351</td>\n",
       "      <td>0.540818</td>\n",
       "      <td>0.299668</td>\n",
       "      <td>-0.557757</td>\n",
       "      <td>0.252305</td>\n",
       "    </tr>\n",
       "    <tr>\n",
       "      <th>shucked_weight</th>\n",
       "      <td>0.897905</td>\n",
       "      <td>0.893159</td>\n",
       "      <td>0.774957</td>\n",
       "      <td>0.969403</td>\n",
       "      <td>1.000000</td>\n",
       "      <td>0.931956</td>\n",
       "      <td>0.882606</td>\n",
       "      <td>0.421256</td>\n",
       "      <td>0.263919</td>\n",
       "      <td>-0.521995</td>\n",
       "      <td>0.252048</td>\n",
       "    </tr>\n",
       "    <tr>\n",
       "      <th>viscera_weight</th>\n",
       "      <td>0.903010</td>\n",
       "      <td>0.899726</td>\n",
       "      <td>0.798293</td>\n",
       "      <td>0.966372</td>\n",
       "      <td>0.931956</td>\n",
       "      <td>1.000000</td>\n",
       "      <td>0.907647</td>\n",
       "      <td>0.504274</td>\n",
       "      <td>0.308363</td>\n",
       "      <td>-0.556267</td>\n",
       "      <td>0.242489</td>\n",
       "    </tr>\n",
       "    <tr>\n",
       "      <th>shell_weight</th>\n",
       "      <td>0.897697</td>\n",
       "      <td>0.905328</td>\n",
       "      <td>0.817326</td>\n",
       "      <td>0.955351</td>\n",
       "      <td>0.882606</td>\n",
       "      <td>0.907647</td>\n",
       "      <td>1.000000</td>\n",
       "      <td>0.628031</td>\n",
       "      <td>0.306248</td>\n",
       "      <td>-0.547116</td>\n",
       "      <td>0.235652</td>\n",
       "    </tr>\n",
       "    <tr>\n",
       "      <th>rings</th>\n",
       "      <td>0.557123</td>\n",
       "      <td>0.575005</td>\n",
       "      <td>0.558109</td>\n",
       "      <td>0.540818</td>\n",
       "      <td>0.421256</td>\n",
       "      <td>0.504274</td>\n",
       "      <td>0.628031</td>\n",
       "      <td>1.000000</td>\n",
       "      <td>0.250620</td>\n",
       "      <td>-0.435958</td>\n",
       "      <td>0.181426</td>\n",
       "    </tr>\n",
       "    <tr>\n",
       "      <th>sex_F</th>\n",
       "      <td>0.309602</td>\n",
       "      <td>0.318581</td>\n",
       "      <td>0.298306</td>\n",
       "      <td>0.299668</td>\n",
       "      <td>0.263919</td>\n",
       "      <td>0.308363</td>\n",
       "      <td>0.306248</td>\n",
       "      <td>0.250620</td>\n",
       "      <td>1.000000</td>\n",
       "      <td>-0.464461</td>\n",
       "      <td>-0.512449</td>\n",
       "    </tr>\n",
       "    <tr>\n",
       "      <th>sex_I</th>\n",
       "      <td>-0.551613</td>\n",
       "      <td>-0.564431</td>\n",
       "      <td>-0.518828</td>\n",
       "      <td>-0.557757</td>\n",
       "      <td>-0.521995</td>\n",
       "      <td>-0.556267</td>\n",
       "      <td>-0.547116</td>\n",
       "      <td>-0.435958</td>\n",
       "      <td>-0.464461</td>\n",
       "      <td>1.000000</td>\n",
       "      <td>-0.522462</td>\n",
       "    </tr>\n",
       "    <tr>\n",
       "      <th>sex_M</th>\n",
       "      <td>0.236783</td>\n",
       "      <td>0.240567</td>\n",
       "      <td>0.215869</td>\n",
       "      <td>0.252305</td>\n",
       "      <td>0.252048</td>\n",
       "      <td>0.242489</td>\n",
       "      <td>0.235652</td>\n",
       "      <td>0.181426</td>\n",
       "      <td>-0.512449</td>\n",
       "      <td>-0.522462</td>\n",
       "      <td>1.000000</td>\n",
       "    </tr>\n",
       "  </tbody>\n",
       "</table>\n",
       "</div>"
      ],
      "text/plain": [
       "                  length  diameter    height  whole_weight  shucked_weight  \\\n",
       "length          1.000000  0.986813  0.827552      0.925255        0.897905   \n",
       "diameter        0.986813  1.000000  0.833705      0.925452        0.893159   \n",
       "height          0.827552  0.833705  1.000000      0.819209        0.774957   \n",
       "whole_weight    0.925255  0.925452  0.819209      1.000000        0.969403   \n",
       "shucked_weight  0.897905  0.893159  0.774957      0.969403        1.000000   \n",
       "viscera_weight  0.903010  0.899726  0.798293      0.966372        0.931956   \n",
       "shell_weight    0.897697  0.905328  0.817326      0.955351        0.882606   \n",
       "rings           0.557123  0.575005  0.558109      0.540818        0.421256   \n",
       "sex_F           0.309602  0.318581  0.298306      0.299668        0.263919   \n",
       "sex_I          -0.551613 -0.564431 -0.518828     -0.557757       -0.521995   \n",
       "sex_M           0.236783  0.240567  0.215869      0.252305        0.252048   \n",
       "\n",
       "                viscera_weight  shell_weight     rings     sex_F     sex_I  \\\n",
       "length                0.903010      0.897697  0.557123  0.309602 -0.551613   \n",
       "diameter              0.899726      0.905328  0.575005  0.318581 -0.564431   \n",
       "height                0.798293      0.817326  0.558109  0.298306 -0.518828   \n",
       "whole_weight          0.966372      0.955351  0.540818  0.299668 -0.557757   \n",
       "shucked_weight        0.931956      0.882606  0.421256  0.263919 -0.521995   \n",
       "viscera_weight        1.000000      0.907647  0.504274  0.308363 -0.556267   \n",
       "shell_weight          0.907647      1.000000  0.628031  0.306248 -0.547116   \n",
       "rings                 0.504274      0.628031  1.000000  0.250620 -0.435958   \n",
       "sex_F                 0.308363      0.306248  0.250620  1.000000 -0.464461   \n",
       "sex_I                -0.556267     -0.547116 -0.435958 -0.464461  1.000000   \n",
       "sex_M                 0.242489      0.235652  0.181426 -0.512449 -0.522462   \n",
       "\n",
       "                   sex_M  \n",
       "length          0.236783  \n",
       "diameter        0.240567  \n",
       "height          0.215869  \n",
       "whole_weight    0.252305  \n",
       "shucked_weight  0.252048  \n",
       "viscera_weight  0.242489  \n",
       "shell_weight    0.235652  \n",
       "rings           0.181426  \n",
       "sex_F          -0.512449  \n",
       "sex_I          -0.522462  \n",
       "sex_M           1.000000  "
      ]
     },
     "execution_count": 12,
     "metadata": {},
     "output_type": "execute_result"
    }
   ],
   "source": [
    "# defining the correlation dataframe\n",
    "df_corr = abalone.corr()\n",
    "df_corr"
   ]
  },
  {
   "cell_type": "code",
   "execution_count": 13,
   "id": "569c7d0a",
   "metadata": {},
   "outputs": [
    {
     "data": {
      "image/png": "[encoded data removed]",
      "text/plain": [
       "<Figure size 864x576 with 2 Axes>"
      ]
     },
     "metadata": {
      "needs_background": "light"
     },
     "output_type": "display_data"
    }
   ],
   "source": [
    "# Looking at the heatmap\n",
    "corr_heatmap(df_corr)"
   ]
  },
  {
   "cell_type": "markdown",
   "id": "27f60a7b",
   "metadata": {},
   "source": [
    "From the above, we can easily see that the physical dimensions are all correlated with one another, which is not that surprising considering that the larger an abalone, the higher the length/diameter/height and the heavier its weights are. As such, it may be prudent to reduce the number of variables relating to the physical dimensions to reduce collinearity.\n",
    "\n",
    "Also, with respect to the number of rings, there is no clear correlation with the other variables, other than the sex being infant being negatively correlated."
   ]
  },
  {
   "cell_type": "markdown",
   "id": "606c41e8",
   "metadata": {},
   "source": [
    "<a id=\"scatter\"></a>\n",
    "### 4.2 Scatter Plots against Rings"
   ]
  },
  {
   "cell_type": "code",
   "execution_count": 14,
   "id": "ff9573ce",
   "metadata": {},
   "outputs": [],
   "source": [
    "# Function for Scatter Plot for feature vs rings \n",
    "def scatter_feat_rings(feat):\n",
    "    plt.figure(figsize = [12, 6])                                                      \n",
    "    plt.title(f'{feat} vs Rings', fontsize = 12)                                  \n",
    "    sns.regplot(x = feat, y = 'rings', data = abalone, line_kws = {\"color\": \"red\"})"
   ]
  },
  {
   "cell_type": "code",
   "execution_count": 15,
   "id": "fa445aea",
   "metadata": {
    "scrolled": false
   },
   "outputs": [
    {
     "data": {
      "image/png": "[encoded data removed]",
      "text/plain": [
       "<Figure size 864x432 with 1 Axes>"
      ]
     },
     "metadata": {
      "needs_background": "light"
     },
     "output_type": "display_data"
    },
    {
     "data": {
      "image/png": "[encoded data removed]",
      "text/plain": [
       "<Figure size 864x432 with 1 Axes>"
      ]
     },
     "metadata": {
      "needs_background": "light"
     },
     "output_type": "display_data"
    },
    {
     "data": {
      "image/png": "[encoded data removed]",
      "text/plain": [
       "<Figure size 864x432 with 1 Axes>"
      ]
     },
     "metadata": {
      "needs_background": "light"
     },
     "output_type": "display_data"
    }
   ],
   "source": [
    "# Scatter Plots of Length, Diameter, Height against Rings\n",
    "scatter_feat_rings('length')\n",
    "scatter_feat_rings('diameter')\n",
    "scatter_feat_rings('height')"
   ]
  },
  {
   "cell_type": "markdown",
   "id": "43240884",
   "metadata": {},
   "source": [
    "Looking at the distributions, we can see that three variables are somewhat similar since `length`, `diameter` and `height` covers the dimensions of the abalone.\n",
    "\n",
    "However, it would seem that there are two obvious outliers in the distribution for `height`, which we will be to remove."
   ]
  },
  {
   "cell_type": "code",
   "execution_count": 16,
   "id": "622165b2",
   "metadata": {},
   "outputs": [
    {
     "data": {
      "text/html": [
       "<div>\n",
       "<style scoped>\n",
       "    .dataframe tbody tr th:only-of-type {\n",
       "        vertical-align: middle;\n",
       "    }\n",
       "\n",
       "    .dataframe tbody tr th {\n",
       "        vertical-align: top;\n",
       "    }\n",
       "\n",
       "    .dataframe thead th {\n",
       "        text-align: right;\n",
       "    }\n",
       "</style>\n",
       "<table border=\"1\" class=\"dataframe\">\n",
       "  <thead>\n",
       "    <tr style=\"text-align: right;\">\n",
       "      <th></th>\n",
       "      <th>length</th>\n",
       "      <th>diameter</th>\n",
       "      <th>height</th>\n",
       "      <th>whole_weight</th>\n",
       "      <th>shucked_weight</th>\n",
       "      <th>viscera_weight</th>\n",
       "      <th>shell_weight</th>\n",
       "      <th>rings</th>\n",
       "      <th>sex_F</th>\n",
       "      <th>sex_I</th>\n",
       "      <th>sex_M</th>\n",
       "    </tr>\n",
       "  </thead>\n",
       "  <tbody>\n",
       "    <tr>\n",
       "      <th>1416</th>\n",
       "      <td>0.705</td>\n",
       "      <td>0.565</td>\n",
       "      <td>0.515</td>\n",
       "      <td>2.210</td>\n",
       "      <td>1.1075</td>\n",
       "      <td>0.4865</td>\n",
       "      <td>0.5120</td>\n",
       "      <td>10</td>\n",
       "      <td>0</td>\n",
       "      <td>0</td>\n",
       "      <td>1</td>\n",
       "    </tr>\n",
       "    <tr>\n",
       "      <th>2050</th>\n",
       "      <td>0.455</td>\n",
       "      <td>0.355</td>\n",
       "      <td>1.130</td>\n",
       "      <td>0.594</td>\n",
       "      <td>0.3320</td>\n",
       "      <td>0.1160</td>\n",
       "      <td>0.1335</td>\n",
       "      <td>8</td>\n",
       "      <td>1</td>\n",
       "      <td>0</td>\n",
       "      <td>0</td>\n",
       "    </tr>\n",
       "  </tbody>\n",
       "</table>\n",
       "</div>"
      ],
      "text/plain": [
       "      length  diameter  height  whole_weight  shucked_weight  viscera_weight  \\\n",
       "1416   0.705     0.565   0.515         2.210          1.1075          0.4865   \n",
       "2050   0.455     0.355   1.130         0.594          0.3320          0.1160   \n",
       "\n",
       "      shell_weight  rings  sex_F  sex_I  sex_M  \n",
       "1416        0.5120     10      0      0      1  \n",
       "2050        0.1335      8      1      0      0  "
      ]
     },
     "metadata": {},
     "output_type": "display_data"
    }
   ],
   "source": [
    "# Displaying the outliers\n",
    "display(abalone.loc[abalone['height'] > 0.5]) "
   ]
  },
  {
   "cell_type": "code",
   "execution_count": 17,
   "id": "9baaf89c",
   "metadata": {
    "scrolled": false
   },
   "outputs": [
    {
     "data": {
      "image/png": "[encoded data removed]",
      "text/plain": [
       "<Figure size 864x432 with 1 Axes>"
      ]
     },
     "metadata": {
      "needs_background": "light"
     },
     "output_type": "display_data"
    },
    {
     "data": {
      "image/png": "[encoded data removed]",
      "text/plain": [
       "<Figure size 864x432 with 1 Axes>"
      ]
     },
     "metadata": {
      "needs_background": "light"
     },
     "output_type": "display_data"
    },
    {
     "data": {
      "image/png": "[encoded data removed]",
      "text/plain": [
       "<Figure size 864x432 with 1 Axes>"
      ]
     },
     "metadata": {
      "needs_background": "light"
     },
     "output_type": "display_data"
    },
    {
     "data": {
      "image/png": "[encoded data removed]",
      "text/plain": [
       "<Figure size 864x432 with 1 Axes>"
      ]
     },
     "metadata": {
      "needs_background": "light"
     },
     "output_type": "display_data"
    }
   ],
   "source": [
    "# Scatter Plots of Weights against Rings\n",
    "scatter_feat_rings('whole_weight')\n",
    "scatter_feat_rings('shucked_weight')\n",
    "scatter_feat_rings('viscera_weight')\n",
    "scatter_feat_rings('shell_weight')"
   ]
  },
  {
   "cell_type": "markdown",
   "id": "ba303876",
   "metadata": {},
   "source": [
    "Looking at the distributions, we can see that the four variables are somewhat similar, which is to be expected as they are correlated with each other. "
   ]
  },
  {
   "cell_type": "markdown",
   "id": "412ab6a4",
   "metadata": {},
   "source": [
    "<a id=\"box\"></a>\n",
    "### 4.3 Box Plots against Rings"
   ]
  },
  {
   "cell_type": "code",
   "execution_count": 18,
   "id": "0a7bbb00",
   "metadata": {},
   "outputs": [],
   "source": [
    "# Function for Box Plot for feature vs Rings \n",
    "def box_feat_rings(feat, dataframe = abalone):\n",
    "    plt.figure(figsize = [16, 9])                                \n",
    "    plt.title(f'{feat} vs Rings', fontsize = 12)                                          \n",
    "    sns.boxplot(x=feat, y = 'rings', data = dataframe);       "
   ]
  },
  {
   "cell_type": "code",
   "execution_count": 19,
   "id": "5b05da11",
   "metadata": {
    "scrolled": false
   },
   "outputs": [
    {
     "data": {
      "image/png": "[encoded data removed]",
      "text/plain": [
       "<Figure size 1152x648 with 1 Axes>"
      ]
     },
     "metadata": {
      "needs_background": "light"
     },
     "output_type": "display_data"
    },
    {
     "data": {
      "image/png": "[encoded data removed]",
      "text/plain": [
       "<Figure size 1152x648 with 1 Axes>"
      ]
     },
     "metadata": {
      "needs_background": "light"
     },
     "output_type": "display_data"
    },
    {
     "data": {
      "image/png": "[encoded data removed]",
      "text/plain": [
       "<Figure size 1152x648 with 1 Axes>"
      ]
     },
     "metadata": {
      "needs_background": "light"
     },
     "output_type": "display_data"
    }
   ],
   "source": [
    "# Box Plots of Gender against Rings\n",
    "box_feat_rings('sex_F')\n",
    "box_feat_rings('sex_I')\n",
    "box_feat_rings('sex_M')"
   ]
  },
  {
   "cell_type": "code",
   "execution_count": 20,
   "id": "1ab510ec",
   "metadata": {},
   "outputs": [
    {
     "data": {
      "image/png": "[encoded data removed]",
      "text/plain": [
       "<Figure size 1152x648 with 1 Axes>"
      ]
     },
     "metadata": {
      "needs_background": "light"
     },
     "output_type": "display_data"
    }
   ],
   "source": [
    "# Box plots of the genders together in one plot\n",
    "box_feat_rings('sex', dataframe = df)"
   ]
  },
  {
   "cell_type": "markdown",
   "id": "e2d52a88",
   "metadata": {},
   "source": [
    "From the above, we can easily see that the gender of abalones are affected by the age where infant abalones tend to be younger in age, as shown by the correlation."
   ]
  },
  {
   "cell_type": "markdown",
   "id": "697896ca",
   "metadata": {},
   "source": [
    "<a id=\"model\"></a>\n",
    "## 5. Modelling"
   ]
  },
  {
   "cell_type": "markdown",
   "id": "914587bf",
   "metadata": {},
   "source": [
    "<a id=\"traintest\"></a>\n",
    "### 5.1 Train/Test Split\n",
    "If we are to evaluate our models, we will have to split up the training dataset into train data and test data."
   ]
  },
  {
   "cell_type": "code",
   "execution_count": 21,
   "id": "5d88275c",
   "metadata": {},
   "outputs": [
    {
     "data": {
      "text/plain": [
       "(4176, 10)"
      ]
     },
     "metadata": {},
     "output_type": "display_data"
    },
    {
     "data": {
      "text/plain": [
       "(4176,)"
      ]
     },
     "metadata": {},
     "output_type": "display_data"
    }
   ],
   "source": [
    "# Creating the X and y variables from the training dataset\n",
    "X = abalone.drop(columns = ['rings'])\n",
    "y = abalone['rings']\n",
    "\n",
    "# Displaying the shapes of the X and y variables\n",
    "display(X.shape)\n",
    "display(y.shape)"
   ]
  },
  {
   "cell_type": "code",
   "execution_count": 22,
   "id": "fc0392c0",
   "metadata": {},
   "outputs": [],
   "source": [
    "# Train/Test Split\n",
    "X_train, X_test, y_train, y_test = train_test_split(X, y, test_size = 0.25, random_state = 42)"
   ]
  },
  {
   "cell_type": "code",
   "execution_count": 23,
   "id": "d896e531",
   "metadata": {},
   "outputs": [],
   "source": [
    "# columns to be scaled, only dummy cols need not be scaled\n",
    "scale_cols = ['length', 'diameter', 'height', 'whole_weight', 'shucked_weight', 'viscera_weight', 'shell_weight']"
   ]
  },
  {
   "cell_type": "code",
   "execution_count": 24,
   "id": "24fb5359",
   "metadata": {},
   "outputs": [],
   "source": [
    "# Create dataframes Xss_train and Xss_test which will eventually have its discrete and continuous columns standardised\n",
    "Xss_train = X_train.copy()\n",
    "Xss_test = X_test.copy()\n",
    "\n",
    "# Standardisation\n",
    "ss = StandardScaler()\n",
    "Xss_train[scale_cols] = ss.fit_transform(X_train[scale_cols])\n",
    "Xss_test[scale_cols] = ss.transform(X_test[scale_cols])"
   ]
  },
  {
   "cell_type": "code",
   "execution_count": 25,
   "id": "877f78d0",
   "metadata": {},
   "outputs": [
    {
     "data": {
      "text/html": [
       "<div>\n",
       "<style scoped>\n",
       "    .dataframe tbody tr th:only-of-type {\n",
       "        vertical-align: middle;\n",
       "    }\n",
       "\n",
       "    .dataframe tbody tr th {\n",
       "        vertical-align: top;\n",
       "    }\n",
       "\n",
       "    .dataframe thead th {\n",
       "        text-align: right;\n",
       "    }\n",
       "</style>\n",
       "<table border=\"1\" class=\"dataframe\">\n",
       "  <thead>\n",
       "    <tr style=\"text-align: right;\">\n",
       "      <th></th>\n",
       "      <th>length</th>\n",
       "      <th>diameter</th>\n",
       "      <th>height</th>\n",
       "      <th>whole_weight</th>\n",
       "      <th>shucked_weight</th>\n",
       "      <th>viscera_weight</th>\n",
       "      <th>shell_weight</th>\n",
       "      <th>sex_F</th>\n",
       "      <th>sex_I</th>\n",
       "      <th>sex_M</th>\n",
       "    </tr>\n",
       "  </thead>\n",
       "  <tbody>\n",
       "    <tr>\n",
       "      <th>2428</th>\n",
       "      <td>-1.546422</td>\n",
       "      <td>-1.556170</td>\n",
       "      <td>-1.053558</td>\n",
       "      <td>-1.258947</td>\n",
       "      <td>-1.260633</td>\n",
       "      <td>-1.337852</td>\n",
       "      <td>-1.212341</td>\n",
       "      <td>0</td>\n",
       "      <td>0</td>\n",
       "      <td>1</td>\n",
       "    </tr>\n",
       "    <tr>\n",
       "      <th>3823</th>\n",
       "      <td>0.795725</td>\n",
       "      <td>0.521917</td>\n",
       "      <td>0.706869</td>\n",
       "      <td>0.605245</td>\n",
       "      <td>0.789463</td>\n",
       "      <td>0.749584</td>\n",
       "      <td>0.409117</td>\n",
       "      <td>0</td>\n",
       "      <td>0</td>\n",
       "      <td>1</td>\n",
       "    </tr>\n",
       "    <tr>\n",
       "      <th>3956</th>\n",
       "      <td>0.252013</td>\n",
       "      <td>0.319177</td>\n",
       "      <td>0.354783</td>\n",
       "      <td>0.378850</td>\n",
       "      <td>0.602065</td>\n",
       "      <td>0.040129</td>\n",
       "      <td>0.172355</td>\n",
       "      <td>1</td>\n",
       "      <td>0</td>\n",
       "      <td>0</td>\n",
       "    </tr>\n",
       "    <tr>\n",
       "      <th>3623</th>\n",
       "      <td>1.172142</td>\n",
       "      <td>0.927397</td>\n",
       "      <td>0.824231</td>\n",
       "      <td>1.234461</td>\n",
       "      <td>1.277152</td>\n",
       "      <td>1.490874</td>\n",
       "      <td>0.940037</td>\n",
       "      <td>1</td>\n",
       "      <td>0</td>\n",
       "      <td>0</td>\n",
       "    </tr>\n",
       "    <tr>\n",
       "      <th>0</th>\n",
       "      <td>-1.462774</td>\n",
       "      <td>-1.454800</td>\n",
       "      <td>-1.170920</td>\n",
       "      <td>-1.233452</td>\n",
       "      <td>-1.177094</td>\n",
       "      <td>-1.205966</td>\n",
       "      <td>-1.212341</td>\n",
       "      <td>0</td>\n",
       "      <td>0</td>\n",
       "      <td>1</td>\n",
       "    </tr>\n",
       "    <tr>\n",
       "      <th>...</th>\n",
       "      <td>...</td>\n",
       "      <td>...</td>\n",
       "      <td>...</td>\n",
       "      <td>...</td>\n",
       "      <td>...</td>\n",
       "      <td>...</td>\n",
       "      <td>...</td>\n",
       "      <td>...</td>\n",
       "      <td>...</td>\n",
       "      <td>...</td>\n",
       "    </tr>\n",
       "    <tr>\n",
       "      <th>3444</th>\n",
       "      <td>-0.249876</td>\n",
       "      <td>-0.086304</td>\n",
       "      <td>0.120060</td>\n",
       "      <td>-0.514494</td>\n",
       "      <td>-0.477171</td>\n",
       "      <td>-0.460128</td>\n",
       "      <td>-0.534342</td>\n",
       "      <td>0</td>\n",
       "      <td>1</td>\n",
       "      <td>0</td>\n",
       "    </tr>\n",
       "    <tr>\n",
       "      <th>466</th>\n",
       "      <td>1.088494</td>\n",
       "      <td>1.231507</td>\n",
       "      <td>1.293678</td>\n",
       "      <td>1.137580</td>\n",
       "      <td>0.933964</td>\n",
       "      <td>0.840540</td>\n",
       "      <td>1.227020</td>\n",
       "      <td>0</td>\n",
       "      <td>0</td>\n",
       "      <td>1</td>\n",
       "    </tr>\n",
       "    <tr>\n",
       "      <th>3092</th>\n",
       "      <td>-0.040756</td>\n",
       "      <td>0.217806</td>\n",
       "      <td>0.237422</td>\n",
       "      <td>-0.208554</td>\n",
       "      <td>-0.262679</td>\n",
       "      <td>-0.214548</td>\n",
       "      <td>-0.028533</td>\n",
       "      <td>1</td>\n",
       "      <td>0</td>\n",
       "      <td>0</td>\n",
       "    </tr>\n",
       "    <tr>\n",
       "      <th>3772</th>\n",
       "      <td>0.419309</td>\n",
       "      <td>0.521917</td>\n",
       "      <td>0.237422</td>\n",
       "      <td>0.197326</td>\n",
       "      <td>-0.122694</td>\n",
       "      <td>0.235684</td>\n",
       "      <td>0.427053</td>\n",
       "      <td>1</td>\n",
       "      <td>0</td>\n",
       "      <td>0</td>\n",
       "    </tr>\n",
       "    <tr>\n",
       "      <th>860</th>\n",
       "      <td>0.586605</td>\n",
       "      <td>0.572602</td>\n",
       "      <td>0.002698</td>\n",
       "      <td>0.576691</td>\n",
       "      <td>0.710440</td>\n",
       "      <td>0.572220</td>\n",
       "      <td>0.473688</td>\n",
       "      <td>1</td>\n",
       "      <td>0</td>\n",
       "      <td>0</td>\n",
       "    </tr>\n",
       "  </tbody>\n",
       "</table>\n",
       "<p>3132 rows × 10 columns</p>\n",
       "</div>"
      ],
      "text/plain": [
       "        length  diameter    height  whole_weight  shucked_weight  \\\n",
       "2428 -1.546422 -1.556170 -1.053558     -1.258947       -1.260633   \n",
       "3823  0.795725  0.521917  0.706869      0.605245        0.789463   \n",
       "3956  0.252013  0.319177  0.354783      0.378850        0.602065   \n",
       "3623  1.172142  0.927397  0.824231      1.234461        1.277152   \n",
       "0    -1.462774 -1.454800 -1.170920     -1.233452       -1.177094   \n",
       "...        ...       ...       ...           ...             ...   \n",
       "3444 -0.249876 -0.086304  0.120060     -0.514494       -0.477171   \n",
       "466   1.088494  1.231507  1.293678      1.137580        0.933964   \n",
       "3092 -0.040756  0.217806  0.237422     -0.208554       -0.262679   \n",
       "3772  0.419309  0.521917  0.237422      0.197326       -0.122694   \n",
       "860   0.586605  0.572602  0.002698      0.576691        0.710440   \n",
       "\n",
       "      viscera_weight  shell_weight  sex_F  sex_I  sex_M  \n",
       "2428       -1.337852     -1.212341      0      0      1  \n",
       "3823        0.749584      0.409117      0      0      1  \n",
       "3956        0.040129      0.172355      1      0      0  \n",
       "3623        1.490874      0.940037      1      0      0  \n",
       "0          -1.205966     -1.212341      0      0      1  \n",
       "...              ...           ...    ...    ...    ...  \n",
       "3444       -0.460128     -0.534342      0      1      0  \n",
       "466         0.840540      1.227020      0      0      1  \n",
       "3092       -0.214548     -0.028533      1      0      0  \n",
       "3772        0.235684      0.427053      1      0      0  \n",
       "860         0.572220      0.473688      1      0      0  \n",
       "\n",
       "[3132 rows x 10 columns]"
      ]
     },
     "execution_count": 25,
     "metadata": {},
     "output_type": "execute_result"
    }
   ],
   "source": [
    "Xss_train"
   ]
  },
  {
   "cell_type": "markdown",
   "id": "5217ff4d",
   "metadata": {},
   "source": [
    "<a id=\"modelfuncs\"></a>\n",
    "### 5.2 Model Fitting and Evaluation Functions\n",
    "At this point in time, we will be fitting the given data to a multi-variable linear regression model.\n",
    "\n",
    "Also, to evaluate the models, we will be looking at the three metrics: _Root Mean Squared Error (RMSE), Mean Absolute Error (MAE) and Coefficient of Determination, $R^2$_."
   ]
  },
  {
   "cell_type": "code",
   "execution_count": 26,
   "id": "e5d228bc",
   "metadata": {},
   "outputs": [],
   "source": [
    "# Function to run GridSearchCV and print evaluation metrics and confusion matrix\n",
    "def model_gridsearch(pipe, pipe_params): # pipe and pipe parameters as arguments\n",
    "    model = GridSearchCV(pipe, pipe_params, cv = 5, scoring='r2', n_jobs = 1, verbose = 1)\n",
    "    # Start timer\n",
    "    t0 = time.time()\n",
    "\n",
    "    # Fit the model using GridSearchCV\n",
    "    model.fit(Xss_train, y_train)\n",
    "\n",
    "    # Display time taken\n",
    "    time_gs = time.time() - t0\n",
    "    print(f\"Time taken: {time_gs:.2f} seconds\")\n",
    "    \n",
    "    # Display the best parameters\n",
    "    print(\"\\nBest Parameters: \", model.best_params_)\n",
    "\n",
    "    return model"
   ]
  },
  {
   "cell_type": "code",
   "execution_count": 27,
   "id": "c715c553",
   "metadata": {},
   "outputs": [],
   "source": [
    "# Function for metrics (Since we will be using this often)\n",
    "def evaluation(model, modeltype):\n",
    "    # GridSearchCV best score\n",
    "    grid = round(model.best_score_, 4)\n",
    "    \n",
    "    # Predicting the y values based on the given model\n",
    "    pred = model.predict(Xss_test)      \n",
    "    \n",
    "    # Calculate train score\n",
    "    trainscore = round(model.score(Xss_train, y_train), 4)\n",
    "    \n",
    "    # Calculate test score\n",
    "    testscore = round(model.score(Xss_test, y_test), 4)\n",
    "    \n",
    "    # Printing the metrics data\n",
    "    RMSE = round(np.sqrt(mean_squared_error(y_test, pred)), 4)\n",
    "    MAE = round(mean_absolute_error(y_test, pred), 4)\n",
    "    R2 = round(r2_score(y_test, pred), 4)\n",
    "    \n",
    "    # Create a dictionary containing model, vectorisation, scores and evaluation metrics\n",
    "    dict = {'model': modeltype,\n",
    "            'GridSearch_score': grid,\n",
    "            'train_score': trainscore,\n",
    "            'test_score': testscore,\n",
    "            'test_RMSE': RMSE,\n",
    "            'test_MAE': MAE,\n",
    "            'test_R2': R2\n",
    "           }\n",
    "    display(pd.DataFrame([dict])) \n",
    "    \n",
    "    return dict"
   ]
  },
  {
   "cell_type": "code",
   "execution_count": 28,
   "id": "b22c1c4e",
   "metadata": {},
   "outputs": [],
   "source": [
    "# Function for the plot of predicted values versus actual values\n",
    "def model_plot(model):\n",
    "    # Predicting the y values based on the given model\n",
    "    pred = model.predict(Xss_test) \n",
    "    \n",
    "    plt.figure(figsize = [12, 6])                                                  \n",
    "    plt.title('Actual Rings versus Predicted Rings', fontsize = 12)                \n",
    "    plt.xlabel('Actual Rings')\n",
    "    plt.ylabel('Predicted Rings')\n",
    "    sns.regplot(x = y_test, y = pred, line_kws = {\"color\": \"red\"})             "
   ]
  },
  {
   "cell_type": "markdown",
   "id": "6611206d",
   "metadata": {},
   "source": [
    "<a id=\"baseline\"></a>\n",
    "### 5.3 Baseline Model\n",
    "For the Baseline Model for the prediction of the `rings`, we will be using the mean value of `rings` from the train data above as the predictions for the test data."
   ]
  },
  {
   "cell_type": "code",
   "execution_count": 29,
   "id": "cce258d8",
   "metadata": {},
   "outputs": [
    {
     "name": "stdout",
     "output_type": "stream",
     "text": [
      "Fitting 5 folds for each of 1 candidates, totalling 5 fits\n",
      "Time taken: 0.01 seconds\n",
      "\n",
      "Best Parameters:  {'dr__strategy': 'mean'}\n"
     ]
    }
   ],
   "source": [
    "# Set up Pipeline for Dummy Regressor as Baseline Model\n",
    "pipe_dr = Pipeline([\n",
    "    ('dr', DummyRegressor()) \n",
    "])\n",
    "\n",
    "# Set up parameters for pipeline\n",
    "pipe_dr_params = {\n",
    "    'dr__strategy': ['mean']\n",
    "}\n",
    "\n",
    "# Run gridsearch\n",
    "model_dr = model_gridsearch(pipe_dr, pipe_dr_params)"
   ]
  },
  {
   "cell_type": "code",
   "execution_count": 30,
   "id": "8b5547c8",
   "metadata": {
    "scrolled": true
   },
   "outputs": [
    {
     "data": {
      "text/html": [
       "<div>\n",
       "<style scoped>\n",
       "    .dataframe tbody tr th:only-of-type {\n",
       "        vertical-align: middle;\n",
       "    }\n",
       "\n",
       "    .dataframe tbody tr th {\n",
       "        vertical-align: top;\n",
       "    }\n",
       "\n",
       "    .dataframe thead th {\n",
       "        text-align: right;\n",
       "    }\n",
       "</style>\n",
       "<table border=\"1\" class=\"dataframe\">\n",
       "  <thead>\n",
       "    <tr style=\"text-align: right;\">\n",
       "      <th></th>\n",
       "      <th>model</th>\n",
       "      <th>GridSearch_score</th>\n",
       "      <th>train_score</th>\n",
       "      <th>test_score</th>\n",
       "      <th>test_RMSE</th>\n",
       "      <th>test_MAE</th>\n",
       "      <th>test_R2</th>\n",
       "    </tr>\n",
       "  </thead>\n",
       "  <tbody>\n",
       "    <tr>\n",
       "      <th>0</th>\n",
       "      <td>Baseline</td>\n",
       "      <td>-0.0021</td>\n",
       "      <td>0.0</td>\n",
       "      <td>-0.0003</td>\n",
       "      <td>3.4165</td>\n",
       "      <td>2.4594</td>\n",
       "      <td>-0.0003</td>\n",
       "    </tr>\n",
       "  </tbody>\n",
       "</table>\n",
       "</div>"
      ],
      "text/plain": [
       "      model  GridSearch_score  train_score  test_score  test_RMSE  test_MAE  \\\n",
       "0  Baseline           -0.0021          0.0     -0.0003     3.4165    2.4594   \n",
       "\n",
       "   test_R2  \n",
       "0  -0.0003  "
      ]
     },
     "metadata": {},
     "output_type": "display_data"
    }
   ],
   "source": [
    "# Evaluate the model\n",
    "dict_dr = evaluation(model_dr, 'Baseline')"
   ]
  },
  {
   "cell_type": "markdown",
   "id": "fe1155c7",
   "metadata": {},
   "source": [
    "<a id=\"logreg\"></a>\n",
    "### 5.4 Logistics Regression"
   ]
  },
  {
   "cell_type": "code",
   "execution_count": 31,
   "id": "01db6a9f",
   "metadata": {
    "scrolled": true
   },
   "outputs": [
    {
     "name": "stdout",
     "output_type": "stream",
     "text": [
      "Fitting 5 folds for each of 9 candidates, totalling 45 fits\n",
      "Time taken: 14.52 seconds\n",
      "\n",
      "Best Parameters:  {'lr__C': 300, 'lr__penalty': 'l1'}\n"
     ]
    }
   ],
   "source": [
    "# Set up Pipeline for Logistic Regression\n",
    "pipe_lr = Pipeline([ \n",
    "    ('lr', LogisticRegression(solver = 'saga', random_state = 42)) \n",
    "])\n",
    "\n",
    "# Set up parameters for pipeline\n",
    "pipe_lr_params = {\n",
    "    'lr__penalty': ['l1', 'l2', 'elasticnet'], # Consider ridge, lasso and elasticnet regularization\n",
    "    'lr__C': [300, 500, 700] # Vary regularization strength\n",
    "}\n",
    "\n",
    "# Run gridsearch\n",
    "model_lr = model_gridsearch(pipe_lr, pipe_lr_params)"
   ]
  },
  {
   "cell_type": "code",
   "execution_count": 32,
   "id": "0b149047",
   "metadata": {
    "scrolled": true
   },
   "outputs": [
    {
     "data": {
      "text/html": [
       "<div>\n",
       "<style scoped>\n",
       "    .dataframe tbody tr th:only-of-type {\n",
       "        vertical-align: middle;\n",
       "    }\n",
       "\n",
       "    .dataframe tbody tr th {\n",
       "        vertical-align: top;\n",
       "    }\n",
       "\n",
       "    .dataframe thead th {\n",
       "        text-align: right;\n",
       "    }\n",
       "</style>\n",
       "<table border=\"1\" class=\"dataframe\">\n",
       "  <thead>\n",
       "    <tr style=\"text-align: right;\">\n",
       "      <th></th>\n",
       "      <th>model</th>\n",
       "      <th>GridSearch_score</th>\n",
       "      <th>train_score</th>\n",
       "      <th>test_score</th>\n",
       "      <th>test_RMSE</th>\n",
       "      <th>test_MAE</th>\n",
       "      <th>test_R2</th>\n",
       "    </tr>\n",
       "  </thead>\n",
       "  <tbody>\n",
       "    <tr>\n",
       "      <th>0</th>\n",
       "      <td>LogReg</td>\n",
       "      <td>0.3817</td>\n",
       "      <td>0.3853</td>\n",
       "      <td>0.3919</td>\n",
       "      <td>2.6638</td>\n",
       "      <td>1.6877</td>\n",
       "      <td>0.3919</td>\n",
       "    </tr>\n",
       "  </tbody>\n",
       "</table>\n",
       "</div>"
      ],
      "text/plain": [
       "    model  GridSearch_score  train_score  test_score  test_RMSE  test_MAE  \\\n",
       "0  LogReg            0.3817       0.3853      0.3919     2.6638    1.6877   \n",
       "\n",
       "   test_R2  \n",
       "0   0.3919  "
      ]
     },
     "metadata": {},
     "output_type": "display_data"
    }
   ],
   "source": [
    "# Evaluate the model\n",
    "dict_lr = evaluation(model_lr, 'LogReg')"
   ]
  },
  {
   "cell_type": "markdown",
   "id": "2e9c42e3",
   "metadata": {},
   "source": [
    "<a id=\"knn\"></a>\n",
    "### 5.5 K Neighbors Regression (KNN)"
   ]
  },
  {
   "cell_type": "code",
   "execution_count": 33,
   "id": "6e86c77c",
   "metadata": {
    "scrolled": false
   },
   "outputs": [
    {
     "name": "stdout",
     "output_type": "stream",
     "text": [
      "Fitting 5 folds for each of 16 candidates, totalling 80 fits\n",
      "Time taken: 1.04 seconds\n",
      "\n",
      "Best Parameters:  {'knn__n_neighbors': 7, 'knn__p': 1, 'knn__weights': 'distance'}\n"
     ]
    }
   ],
   "source": [
    "# Set up Pipeline for KNeighborsRegressor (KNN)\n",
    "pipe_knn = Pipeline([\n",
    "    ('knn', KNeighborsRegressor())\n",
    "])\n",
    "\n",
    "# Set up parameters for pipeline\n",
    "pipe_knn_params = {\n",
    "    'knn__p': [1, 2], # Test euclidean distance vs manhattan distance between datapoints\n",
    "    'knn__weights': ['uniform', 'distance'], # Assign equal weightage to all datapoints vs \"nearer\"\n",
    "                                             # neighbours having greater influence\n",
    "    'knn__n_neighbors': range(1, 9, 2) # Vary number of neighbours, odd numbers only\n",
    "}\n",
    "\n",
    "# Run gridsearch\n",
    "model_knn = model_gridsearch(pipe_knn, pipe_knn_params)"
   ]
  },
  {
   "cell_type": "code",
   "execution_count": 34,
   "id": "05446a43",
   "metadata": {
    "scrolled": false
   },
   "outputs": [
    {
     "data": {
      "text/html": [
       "<div>\n",
       "<style scoped>\n",
       "    .dataframe tbody tr th:only-of-type {\n",
       "        vertical-align: middle;\n",
       "    }\n",
       "\n",
       "    .dataframe tbody tr th {\n",
       "        vertical-align: top;\n",
       "    }\n",
       "\n",
       "    .dataframe thead th {\n",
       "        text-align: right;\n",
       "    }\n",
       "</style>\n",
       "<table border=\"1\" class=\"dataframe\">\n",
       "  <thead>\n",
       "    <tr style=\"text-align: right;\">\n",
       "      <th></th>\n",
       "      <th>model</th>\n",
       "      <th>GridSearch_score</th>\n",
       "      <th>train_score</th>\n",
       "      <th>test_score</th>\n",
       "      <th>test_RMSE</th>\n",
       "      <th>test_MAE</th>\n",
       "      <th>test_R2</th>\n",
       "    </tr>\n",
       "  </thead>\n",
       "  <tbody>\n",
       "    <tr>\n",
       "      <th>0</th>\n",
       "      <td>KNN</td>\n",
       "      <td>0.4893</td>\n",
       "      <td>1.0</td>\n",
       "      <td>0.515</td>\n",
       "      <td>2.379</td>\n",
       "      <td>1.6128</td>\n",
       "      <td>0.515</td>\n",
       "    </tr>\n",
       "  </tbody>\n",
       "</table>\n",
       "</div>"
      ],
      "text/plain": [
       "  model  GridSearch_score  train_score  test_score  test_RMSE  test_MAE  \\\n",
       "0   KNN            0.4893          1.0       0.515      2.379    1.6128   \n",
       "\n",
       "   test_R2  \n",
       "0    0.515  "
      ]
     },
     "metadata": {},
     "output_type": "display_data"
    }
   ],
   "source": [
    "# Evaluate the model\n",
    "dict_knn = evaluation(model_knn, 'KNN')"
   ]
  },
  {
   "cell_type": "markdown",
   "id": "4250f883",
   "metadata": {},
   "source": [
    "<a id=\"dt\"></a>\n",
    "### 5.6 Decision Tree Regression (DT)"
   ]
  },
  {
   "cell_type": "code",
   "execution_count": 48,
   "id": "98824f31",
   "metadata": {
    "scrolled": true
   },
   "outputs": [
    {
     "name": "stdout",
     "output_type": "stream",
     "text": [
      "Fitting 5 folds for each of 18 candidates, totalling 90 fits\n",
      "Time taken: 0.62 seconds\n",
      "\n",
      "Best Parameters:  {'dt__max_depth': 5, 'dt__max_features': None, 'dt__min_samples_leaf': 15}\n"
     ]
    }
   ],
   "source": [
    "# Set up Pipeline for DecisionTreeRegressor (DT)\n",
    "pipe_dt = Pipeline([\n",
    "    ('dt', DecisionTreeRegressor(random_state=42))\n",
    "])\n",
    "\n",
    "# Set up parameters for pipeline\n",
    "pipe_dt_params = {\n",
    "    'dt__max_depth': [2, 5, 10],  # Maximum depth of the tree\n",
    "    'dt__min_samples_leaf': [5, 10, 15], # Minimum number of samples required to be at a leaf node\n",
    "    'dt__max_features': [None, 'auto'], # Set max features\n",
    "}\n",
    "\n",
    "# Run gridsearch\n",
    "model_dt = model_gridsearch(pipe_dt, pipe_dt_params)"
   ]
  },
  {
   "cell_type": "code",
   "execution_count": 49,
   "id": "b75073da",
   "metadata": {
    "scrolled": false
   },
   "outputs": [
    {
     "data": {
      "text/html": [
       "<div>\n",
       "<style scoped>\n",
       "    .dataframe tbody tr th:only-of-type {\n",
       "        vertical-align: middle;\n",
       "    }\n",
       "\n",
       "    .dataframe tbody tr th {\n",
       "        vertical-align: top;\n",
       "    }\n",
       "\n",
       "    .dataframe thead th {\n",
       "        text-align: right;\n",
       "    }\n",
       "</style>\n",
       "<table border=\"1\" class=\"dataframe\">\n",
       "  <thead>\n",
       "    <tr style=\"text-align: right;\">\n",
       "      <th></th>\n",
       "      <th>model</th>\n",
       "      <th>GridSearch_score</th>\n",
       "      <th>train_score</th>\n",
       "      <th>test_score</th>\n",
       "      <th>test_RMSE</th>\n",
       "      <th>test_MAE</th>\n",
       "      <th>test_R2</th>\n",
       "    </tr>\n",
       "  </thead>\n",
       "  <tbody>\n",
       "    <tr>\n",
       "      <th>0</th>\n",
       "      <td>DT</td>\n",
       "      <td>0.4704</td>\n",
       "      <td>0.5432</td>\n",
       "      <td>0.5123</td>\n",
       "      <td>2.3857</td>\n",
       "      <td>1.6289</td>\n",
       "      <td>0.5123</td>\n",
       "    </tr>\n",
       "  </tbody>\n",
       "</table>\n",
       "</div>"
      ],
      "text/plain": [
       "  model  GridSearch_score  train_score  test_score  test_RMSE  test_MAE  \\\n",
       "0    DT            0.4704       0.5432      0.5123     2.3857    1.6289   \n",
       "\n",
       "   test_R2  \n",
       "0   0.5123  "
      ]
     },
     "metadata": {},
     "output_type": "display_data"
    }
   ],
   "source": [
    "# Evaluate the model\n",
    "dict_dt = evaluation(model_dt, 'DT')"
   ]
  },
  {
   "cell_type": "markdown",
   "id": "fd1cb950",
   "metadata": {},
   "source": [
    "<a id=\"evaluate\"></a>\n",
    "## 6. Model Evaluation"
   ]
  },
  {
   "cell_type": "code",
   "execution_count": 37,
   "id": "4d2eaec6",
   "metadata": {
    "scrolled": true
   },
   "outputs": [
    {
     "name": "stdout",
     "output_type": "stream",
     "text": [
      "Evaluation Metrics of Various Model Types:\n"
     ]
    },
    {
     "data": {
      "text/html": [
       "<div>\n",
       "<style scoped>\n",
       "    .dataframe tbody tr th:only-of-type {\n",
       "        vertical-align: middle;\n",
       "    }\n",
       "\n",
       "    .dataframe tbody tr th {\n",
       "        vertical-align: top;\n",
       "    }\n",
       "\n",
       "    .dataframe thead th {\n",
       "        text-align: right;\n",
       "    }\n",
       "</style>\n",
       "<table border=\"1\" class=\"dataframe\">\n",
       "  <thead>\n",
       "    <tr style=\"text-align: right;\">\n",
       "      <th></th>\n",
       "      <th>model</th>\n",
       "      <th>GridSearch_score</th>\n",
       "      <th>train_score</th>\n",
       "      <th>test_score</th>\n",
       "      <th>test_RMSE</th>\n",
       "      <th>test_MAE</th>\n",
       "      <th>test_R2</th>\n",
       "    </tr>\n",
       "  </thead>\n",
       "  <tbody>\n",
       "    <tr>\n",
       "      <th>0</th>\n",
       "      <td>Baseline</td>\n",
       "      <td>-0.0021</td>\n",
       "      <td>0.0000</td>\n",
       "      <td>-0.0003</td>\n",
       "      <td>3.4165</td>\n",
       "      <td>2.4594</td>\n",
       "      <td>-0.0003</td>\n",
       "    </tr>\n",
       "    <tr>\n",
       "      <th>1</th>\n",
       "      <td>LogReg</td>\n",
       "      <td>0.3817</td>\n",
       "      <td>0.3853</td>\n",
       "      <td>0.3919</td>\n",
       "      <td>2.6638</td>\n",
       "      <td>1.6877</td>\n",
       "      <td>0.3919</td>\n",
       "    </tr>\n",
       "    <tr>\n",
       "      <th>2</th>\n",
       "      <td>KNN</td>\n",
       "      <td>0.4893</td>\n",
       "      <td>1.0000</td>\n",
       "      <td>0.5150</td>\n",
       "      <td>2.3790</td>\n",
       "      <td>1.6128</td>\n",
       "      <td>0.5150</td>\n",
       "    </tr>\n",
       "    <tr>\n",
       "      <th>3</th>\n",
       "      <td>DT</td>\n",
       "      <td>0.4704</td>\n",
       "      <td>0.5432</td>\n",
       "      <td>0.5123</td>\n",
       "      <td>2.3857</td>\n",
       "      <td>1.6289</td>\n",
       "      <td>0.5123</td>\n",
       "    </tr>\n",
       "  </tbody>\n",
       "</table>\n",
       "</div>"
      ],
      "text/plain": [
       "      model  GridSearch_score  train_score  test_score  test_RMSE  test_MAE  \\\n",
       "0  Baseline           -0.0021       0.0000     -0.0003     3.4165    2.4594   \n",
       "1    LogReg            0.3817       0.3853      0.3919     2.6638    1.6877   \n",
       "2       KNN            0.4893       1.0000      0.5150     2.3790    1.6128   \n",
       "3        DT            0.4704       0.5432      0.5123     2.3857    1.6289   \n",
       "\n",
       "   test_R2  \n",
       "0  -0.0003  \n",
       "1   0.3919  \n",
       "2   0.5150  \n",
       "3   0.5123  "
      ]
     },
     "metadata": {},
     "output_type": "display_data"
    }
   ],
   "source": [
    "# Create dataFrame containing evaluation metrics of models\n",
    "print(f\"Evaluation Metrics of Various Model Types:\")\n",
    "display(pd.DataFrame([dict_dr, dict_lr, dict_knn, dict_dt]))"
   ]
  },
  {
   "cell_type": "code",
   "execution_count": 63,
   "id": "5c67a721",
   "metadata": {},
   "outputs": [],
   "source": [
    "def final_evaluation(model, modeltype):\n",
    "    # Fitting the final model\n",
    "    model.fit(Z, y)\n",
    "\n",
    "    # Predicting the y values based on the given model\n",
    "    pred = model.predict(Z)      \n",
    "    \n",
    "    # Calculate train score\n",
    "    trainscore = round(model.score(Z, y), 4)\n",
    "    \n",
    "    # Printing the metrics data\n",
    "    RMSE = round(np.sqrt(mean_squared_error(y, pred)), 4)\n",
    "    MAE = round(mean_absolute_error(y, pred), 4)\n",
    "    R2 = round(r2_score(y, pred), 4)\n",
    "    \n",
    "    # Create a dictionary containing model, vectorisation, scores and evaluation metrics\n",
    "    dict = {'model': modeltype,\n",
    "            'train_score': trainscore,\n",
    "            'test_score': '-',\n",
    "            'test_RMSE': RMSE,\n",
    "            'test_MAE': MAE,\n",
    "            'test_R2': R2\n",
    "           }\n",
    "    display(pd.DataFrame([dict])) \n",
    "    \n",
    "    return dict"
   ]
  },
  {
   "cell_type": "code",
   "execution_count": 53,
   "id": "7e414546",
   "metadata": {},
   "outputs": [
    {
     "data": {
      "text/plain": [
       "DecisionTreeRegressor(max_depth=5, min_samples_leaf=15, random_state=42)"
      ]
     },
     "execution_count": 53,
     "metadata": {},
     "output_type": "execute_result"
    }
   ],
   "source": [
    "# Best Model based on Decision Tree\n",
    "dt_final = DecisionTreeRegressor(random_state=42, max_depth=5, min_samples_leaf=15, max_features=None)\n",
    "\n",
    "# Initiating the Scaled dataset and scaling\n",
    "Z = X.copy()\n",
    "ss = StandardScaler()\n",
    "Z[scale_cols] = ss.fit_transform(Z[scale_cols])"
   ]
  },
  {
   "cell_type": "code",
   "execution_count": 64,
   "id": "b02ca9c6",
   "metadata": {},
   "outputs": [
    {
     "data": {
      "text/html": [
       "<div>\n",
       "<style scoped>\n",
       "    .dataframe tbody tr th:only-of-type {\n",
       "        vertical-align: middle;\n",
       "    }\n",
       "\n",
       "    .dataframe tbody tr th {\n",
       "        vertical-align: top;\n",
       "    }\n",
       "\n",
       "    .dataframe thead th {\n",
       "        text-align: right;\n",
       "    }\n",
       "</style>\n",
       "<table border=\"1\" class=\"dataframe\">\n",
       "  <thead>\n",
       "    <tr style=\"text-align: right;\">\n",
       "      <th></th>\n",
       "      <th>model</th>\n",
       "      <th>train_score</th>\n",
       "      <th>test_score</th>\n",
       "      <th>test_RMSE</th>\n",
       "      <th>test_MAE</th>\n",
       "      <th>test_R2</th>\n",
       "    </tr>\n",
       "  </thead>\n",
       "  <tbody>\n",
       "    <tr>\n",
       "      <th>0</th>\n",
       "      <td>DT Final</td>\n",
       "      <td>0.5447</td>\n",
       "      <td>-</td>\n",
       "      <td>2.1749</td>\n",
       "      <td>1.5404</td>\n",
       "      <td>0.5447</td>\n",
       "    </tr>\n",
       "  </tbody>\n",
       "</table>\n",
       "</div>"
      ],
      "text/plain": [
       "      model  train_score test_score  test_RMSE  test_MAE  test_R2\n",
       "0  DT Final       0.5447          -     2.1749    1.5404   0.5447"
      ]
     },
     "metadata": {},
     "output_type": "display_data"
    }
   ],
   "source": [
    "dict_final = final_evaluation(dt_final, 'DT Final')"
   ]
  },
  {
   "cell_type": "code",
   "execution_count": 65,
   "id": "10634db5",
   "metadata": {},
   "outputs": [
    {
     "data": {
      "image/png": "[encoded data removed]",
      "text/plain": [
       "<Figure size 864x432 with 1 Axes>"
      ]
     },
     "metadata": {
      "needs_background": "light"
     },
     "output_type": "display_data"
    }
   ],
   "source": [
    "# Plot of the Actual Rings vs Predicted Rings on the DecisionTree Model\n",
    "model_plot(dt_final)"
   ]
  },
  {
   "cell_type": "code",
   "execution_count": 68,
   "id": "c8f52526",
   "metadata": {},
   "outputs": [
    {
     "data": {
      "image/png": "[encoded data removed]",
      "text/plain": [
       "<Figure size 864x576 with 1 Axes>"
      ]
     },
     "metadata": {
      "needs_background": "light"
     },
     "output_type": "display_data"
    }
   ],
   "source": [
    "# Feature importances for Decision Tree\n",
    "importance = pd.DataFrame(dt_final.feature_importances_,\n",
    "                          index=Z.columns).sort_values(by=0, ascending=False)\n",
    "importance = importance[importance > 0].dropna().rename(columns={0: 'importance'})\n",
    "\n",
    "# plot the important features\n",
    "plt.figure(figsize=(12, 8))\n",
    "plt.title(f\"Top features of Decision Tree\", fontsize = 12)\n",
    "sns.barplot(data=importance, x='importance', y=importance.index, color = 'blue');"
   ]
  }
 ],
 "metadata": {
  "kernelspec": {
   "display_name": "Python 3 (ipykernel)",
   "language": "python",
   "name": "python3"
  },
  "language_info": {
   "codemirror_mode": {
    "name": "ipython",
    "version": 3
   },
   "file_extension": ".py",
   "mimetype": "text/x-python",
   "name": "python",
   "nbconvert_exporter": "python",
   "pygments_lexer": "ipython3",
   "version": "3.8.12"
  },
  "toc": {
   "base_numbering": 1,
   "nav_menu": {},
   "number_sections": false,
   "sideBar": true,
   "skip_h1_title": false,
   "title_cell": "Table of Contents",
   "title_sidebar": "Contents",
   "toc_cell": false,
   "toc_position": {
    "height": "calc(100% - 180px)",
    "left": "10px",
    "top": "150px",
    "width": "279.261px"
   },
   "toc_section_display": true,
   "toc_window_display": true
  }
 },
 "nbformat": 4,
 "nbformat_minor": 5
}
